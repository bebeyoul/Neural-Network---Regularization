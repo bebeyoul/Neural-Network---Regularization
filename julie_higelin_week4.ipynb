{
 "cells": [
  {
   "cell_type": "markdown",
   "metadata": {},
   "source": [
    "# Neural Netwark - TD 4 Regularization"
   ]
  },
  {
   "cell_type": "code",
   "execution_count": 1,
   "metadata": {},
   "outputs": [],
   "source": [
    "# TensorFlow and tf.keras\n",
    "import tensorflow as tf\n",
    "from tensorflow import keras\n",
    "\n",
    "# Helper libraries\n",
    "import numpy as np\n",
    "import matplotlib.pyplot as plt"
   ]
  },
  {
   "cell_type": "markdown",
   "metadata": {},
   "source": [
    "# Dataset 1"
   ]
  },
  {
   "cell_type": "markdown",
   "metadata": {},
   "source": [
    "# Overfitting and Underfitting"
   ]
  },
  {
   "cell_type": "markdown",
   "metadata": {},
   "source": [
    "## Exercice 1 Load IMDB"
   ]
  },
  {
   "cell_type": "code",
   "execution_count": 2,
   "metadata": {},
   "outputs": [
    {
     "name": "stderr",
     "output_type": "stream",
     "text": [
      "<__array_function__ internals>:5: VisibleDeprecationWarning: Creating an ndarray from ragged nested sequences (which is a list-or-tuple of lists-or-tuples-or ndarrays with different lengths or shapes) is deprecated. If you meant to do this, you must specify 'dtype=object' when creating the ndarray.\n",
      "C:\\Users\\julie\\anaconda3\\envs\\deeplearning\\lib\\site-packages\\tensorflow\\python\\keras\\datasets\\imdb.py:159: VisibleDeprecationWarning: Creating an ndarray from ragged nested sequences (which is a list-or-tuple of lists-or-tuples-or ndarrays with different lengths or shapes) is deprecated. If you meant to do this, you must specify 'dtype=object' when creating the ndarray.\n",
      "  x_train, y_train = np.array(xs[:idx]), np.array(labels[:idx])\n",
      "C:\\Users\\julie\\anaconda3\\envs\\deeplearning\\lib\\site-packages\\tensorflow\\python\\keras\\datasets\\imdb.py:160: VisibleDeprecationWarning: Creating an ndarray from ragged nested sequences (which is a list-or-tuple of lists-or-tuples-or ndarrays with different lengths or shapes) is deprecated. If you meant to do this, you must specify 'dtype=object' when creating the ndarray.\n",
      "  x_test, y_test = np.array(xs[idx:]), np.array(labels[idx:])\n"
     ]
    }
   ],
   "source": [
    "(train_data_1, train_labels_1), (test_data_1, test_labels_1) = keras.datasets.imdb.load_data(num_words = 10000)"
   ]
  },
  {
   "cell_type": "markdown",
   "metadata": {},
   "source": [
    "## Exercice 2 - Prepare the data"
   ]
  },
  {
   "cell_type": "code",
   "execution_count": 3,
   "metadata": {},
   "outputs": [
    {
     "name": "stdout",
     "output_type": "stream",
     "text": [
      "train_data size: 25000 test_data size: 25000\n",
      "train_labels size: 25000 test_labels size: 25000\n",
      "train_data shape: (25000,) test_data shape: (25000,)\n",
      "train_labels shape: (25000,) test_labels shape: (25000,)\n"
     ]
    }
   ],
   "source": [
    "print(\"train_data size:\",train_data_1.size, \"test_data size:\",test_data_1.size)\n",
    "print(\"train_labels size:\",train_labels_1.size, \"test_labels size:\",test_labels_1.size)\n",
    "\n",
    "print(\"train_data shape:\",train_data_1.shape, \"test_data shape:\",test_data_1.shape)\n",
    "print(\"train_labels shape:\",train_labels_1.shape, \"test_labels shape:\",test_labels_1.shape)"
   ]
  },
  {
   "cell_type": "code",
   "execution_count": 4,
   "metadata": {},
   "outputs": [],
   "source": [
    "def vectorize_sequences ( sequences , dimension =10000) :\n",
    "    # Create an all - zero matrix of shape ( len ( sequences ), dimension)\n",
    "    results = np . zeros (( len ( sequences ) , dimension ))\n",
    "    for i , sequence in enumerate ( sequences ):\n",
    "        results[i , sequence ] = 1. # set specific indices ofresults [i] to 1s\n",
    "    return results\n",
    "\n",
    "\n",
    "# Our vectorized training data\n",
    "x_train_1 = vectorize_sequences(train_data_1)\n",
    "# Our vectorized test data\n",
    "x_test_1 = vectorize_sequences(test_data_1)\n",
    "# Our vectorized labels\n",
    "y_train_1 = np.asarray(train_labels_1).astype ('float32')\n",
    "y_test_1 = np.asarray(test_labels_1).astype('float32')"
   ]
  },
  {
   "cell_type": "markdown",
   "metadata": {},
   "source": [
    "##### check new train and test sets shapes and sizes. What have changed?"
   ]
  },
  {
   "cell_type": "code",
   "execution_count": 5,
   "metadata": {},
   "outputs": [
    {
     "name": "stdout",
     "output_type": "stream",
     "text": [
      "x_train size: 250000000 x_test size: 250000000\n",
      "y_train size: 25000 y_test size: 25000\n",
      "x_train shape: (25000, 10000) x_test size: (25000, 10000)\n",
      "y_train shape: (25000,) y_test size: (25000,)\n"
     ]
    }
   ],
   "source": [
    "print(\"x_train size:\",x_train_1.size, \"x_test size:\",x_test_1.size)\n",
    "print(\"y_train size:\",y_train_1.size, \"y_test size:\",y_test_1.size)\n",
    "\n",
    "print(\"x_train shape:\",x_train_1.shape, \"x_test size:\",x_test_1.shape)\n",
    "print(\"y_train shape:\",y_train_1.shape, \"y_test size:\",y_test_1.shape)"
   ]
  },
  {
   "cell_type": "markdown",
   "metadata": {},
   "source": [
    "## Exercice 3 - Reducing the network size. Original model"
   ]
  },
  {
   "cell_type": "code",
   "execution_count": 6,
   "metadata": {},
   "outputs": [],
   "source": [
    "original_model = keras.models.Sequential()\n",
    "\n",
    "original_model.add(keras.layers.Dense(16, activation = 'relu'))\n",
    "original_model.add(keras.layers.Dense(16, activation = 'relu'))\n",
    "original_model.add(keras.layers.Dense(1, activation = 'sigmoid'))\n",
    "\n",
    "original_model.compile(optimizer='rmsprop',\n",
    "                        loss = 'binary_crossentropy', \n",
    "                        metrics=['acc'])"
   ]
  },
  {
   "cell_type": "markdown",
   "metadata": {},
   "source": [
    "## Exercice 4 - Smaller_model"
   ]
  },
  {
   "cell_type": "markdown",
   "metadata": {},
   "source": [
    "### Smaller_model with two dense layers of size 4 and each followed with an activation function relu. \n",
    "### Add a final layer of 1 node and an activation function of sigmoid. For your network compilation, define a rmsprop optimizer, with a binary crossentropy and acc as the metric"
   ]
  },
  {
   "cell_type": "code",
   "execution_count": 7,
   "metadata": {},
   "outputs": [],
   "source": [
    "smaller_model = keras.models.Sequential()\n",
    "\n",
    "smaller_model.add(keras.layers.Dense(4, activation = 'relu'))\n",
    "smaller_model.add(keras.layers.Dense(4, activation = 'relu'))\n",
    "smaller_model.add(keras.layers.Dense(1, activation = 'sigmoid'))\n",
    "\n",
    "smaller_model.compile(optimizer='rmsprop',\n",
    "                        loss = 'binary_crossentropy', \n",
    "                        metrics=['acc'])"
   ]
  },
  {
   "cell_type": "markdown",
   "metadata": {},
   "source": [
    "## Exercice 5 - Fit the original model "
   ]
  },
  {
   "cell_type": "markdown",
   "metadata": {},
   "source": [
    "#### Fit the original model on the train set with the test set as the validation set, 20 epochs and batch size = 512 and save it in original hist"
   ]
  },
  {
   "cell_type": "code",
   "execution_count": 8,
   "metadata": {},
   "outputs": [
    {
     "name": "stdout",
     "output_type": "stream",
     "text": [
      "Epoch 1/20\n",
      "49/49 [==============================] - 2s 37ms/step - loss: 0.4516 - acc: 0.8189 - val_loss: 0.3364 - val_acc: 0.8835\n",
      "Epoch 2/20\n",
      "49/49 [==============================] - 1s 15ms/step - loss: 0.2585 - acc: 0.9099 - val_loss: 0.2871 - val_acc: 0.8873\n",
      "Epoch 3/20\n",
      "49/49 [==============================] - 1s 16ms/step - loss: 0.1996 - acc: 0.9297 - val_loss: 0.3014 - val_acc: 0.8794\n",
      "Epoch 4/20\n",
      "49/49 [==============================] - 1s 20ms/step - loss: 0.1663 - acc: 0.9412 - val_loss: 0.3031 - val_acc: 0.8803\n",
      "Epoch 5/20\n",
      "49/49 [==============================] - 1s 17ms/step - loss: 0.1401 - acc: 0.9516 - val_loss: 0.3194 - val_acc: 0.8778\n",
      "Epoch 6/20\n",
      "49/49 [==============================] - 1s 21ms/step - loss: 0.1248 - acc: 0.9560 - val_loss: 0.3421 - val_acc: 0.8736\n",
      "Epoch 7/20\n",
      "49/49 [==============================] - 1s 14ms/step - loss: 0.1124 - acc: 0.9610 - val_loss: 0.3590 - val_acc: 0.8734\n",
      "Epoch 8/20\n",
      "49/49 [==============================] - 1s 16ms/step - loss: 0.0976 - acc: 0.9672 - val_loss: 0.3975 - val_acc: 0.8674\n",
      "Epoch 9/20\n",
      "49/49 [==============================] - 1s 17ms/step - loss: 0.0880 - acc: 0.9714 - val_loss: 0.4090 - val_acc: 0.8681\n",
      "Epoch 10/20\n",
      "49/49 [==============================] - 1s 20ms/step - loss: 0.0763 - acc: 0.9768 - val_loss: 0.4465 - val_acc: 0.8649\n",
      "Epoch 11/20\n",
      "49/49 [==============================] - 1s 17ms/step - loss: 0.0682 - acc: 0.9784 - val_loss: 0.4848 - val_acc: 0.8602\n",
      "Epoch 12/20\n",
      "49/49 [==============================] - 1s 18ms/step - loss: 0.0609 - acc: 0.9818 - val_loss: 0.4993 - val_acc: 0.8608\n",
      "Epoch 13/20\n",
      "49/49 [==============================] - 1s 19ms/step - loss: 0.0528 - acc: 0.9841 - val_loss: 0.5912 - val_acc: 0.8459\n",
      "Epoch 14/20\n",
      "49/49 [==============================] - 1s 22ms/step - loss: 0.0469 - acc: 0.9866 - val_loss: 0.5756 - val_acc: 0.8551\n",
      "Epoch 15/20\n",
      "49/49 [==============================] - 1s 18ms/step - loss: 0.0391 - acc: 0.9897 - val_loss: 0.6959 - val_acc: 0.8396\n",
      "Epoch 16/20\n",
      "49/49 [==============================] - 1s 21ms/step - loss: 0.0361 - acc: 0.9904 - val_loss: 0.6871 - val_acc: 0.8456\n",
      "Epoch 17/20\n",
      "49/49 [==============================] - 1s 21ms/step - loss: 0.0295 - acc: 0.9919 - val_loss: 0.6816 - val_acc: 0.8528\n",
      "Epoch 18/20\n",
      "49/49 [==============================] - 1s 19ms/step - loss: 0.0260 - acc: 0.9931 - val_loss: 0.7201 - val_acc: 0.8480\n",
      "Epoch 19/20\n",
      "49/49 [==============================] - 1s 17ms/step - loss: 0.0209 - acc: 0.9943 - val_loss: 0.8146 - val_acc: 0.8405\n",
      "Epoch 20/20\n",
      "49/49 [==============================] - 1s 21ms/step - loss: 0.0200 - acc: 0.9946 - val_loss: 0.8089 - val_acc: 0.8482\n"
     ]
    }
   ],
   "source": [
    "original_hist =original_model.fit(x_train_1, y_train_1, batch_size=512, epochs=20, validation_data=(x_test_1, y_test_1))"
   ]
  },
  {
   "cell_type": "markdown",
   "metadata": {},
   "source": [
    "## Exercice 6 - Fit the smaller model"
   ]
  },
  {
   "cell_type": "code",
   "execution_count": 9,
   "metadata": {},
   "outputs": [
    {
     "name": "stdout",
     "output_type": "stream",
     "text": [
      "Epoch 1/20\n",
      "49/49 [==============================] - 1s 26ms/step - loss: 0.5606 - acc: 0.7582 - val_loss: 0.4805 - val_acc: 0.8543\n",
      "Epoch 2/20\n",
      "49/49 [==============================] - 1s 15ms/step - loss: 0.3997 - acc: 0.8864 - val_loss: 0.3739 - val_acc: 0.8816\n",
      "Epoch 3/20\n",
      "49/49 [==============================] - 1s 18ms/step - loss: 0.2985 - acc: 0.9140 - val_loss: 0.3159 - val_acc: 0.8884\n",
      "Epoch 4/20\n",
      "49/49 [==============================] - 1s 17ms/step - loss: 0.2373 - acc: 0.9273 - val_loss: 0.2895 - val_acc: 0.8902\n",
      "Epoch 5/20\n",
      "49/49 [==============================] - 1s 17ms/step - loss: 0.1982 - acc: 0.9365 - val_loss: 0.3012 - val_acc: 0.8801\n",
      "Epoch 6/20\n",
      "49/49 [==============================] - 1s 15ms/step - loss: 0.1725 - acc: 0.9437 - val_loss: 0.2862 - val_acc: 0.8862\n",
      "Epoch 7/20\n",
      "49/49 [==============================] - 1s 17ms/step - loss: 0.1564 - acc: 0.9485 - val_loss: 0.2935 - val_acc: 0.8833\n",
      "Epoch 8/20\n",
      "49/49 [==============================] - 1s 16ms/step - loss: 0.1420 - acc: 0.9555 - val_loss: 0.3005 - val_acc: 0.8824\n",
      "Epoch 9/20\n",
      "49/49 [==============================] - 1s 17ms/step - loss: 0.1301 - acc: 0.9590 - val_loss: 0.3269 - val_acc: 0.8751\n",
      "Epoch 10/20\n",
      "49/49 [==============================] - 1s 17ms/step - loss: 0.1201 - acc: 0.9629 - val_loss: 0.3227 - val_acc: 0.8777\n",
      "Epoch 11/20\n",
      "49/49 [==============================] - 1s 17ms/step - loss: 0.1112 - acc: 0.9660 - val_loss: 0.3460 - val_acc: 0.8728\n",
      "Epoch 12/20\n",
      "49/49 [==============================] - 1s 17ms/step - loss: 0.1038 - acc: 0.9689 - val_loss: 0.3583 - val_acc: 0.8707\n",
      "Epoch 13/20\n",
      "49/49 [==============================] - 1s 17ms/step - loss: 0.0964 - acc: 0.9723 - val_loss: 0.3633 - val_acc: 0.8721\n",
      "Epoch 14/20\n",
      "49/49 [==============================] - 1s 17ms/step - loss: 0.0903 - acc: 0.9738 - val_loss: 0.3837 - val_acc: 0.8686\n",
      "Epoch 15/20\n",
      "49/49 [==============================] - 1s 17ms/step - loss: 0.0852 - acc: 0.9753 - val_loss: 0.3934 - val_acc: 0.8670\n",
      "Epoch 16/20\n",
      "49/49 [==============================] - 1s 17ms/step - loss: 0.0799 - acc: 0.9774 - val_loss: 0.4098 - val_acc: 0.8656\n",
      "Epoch 17/20\n",
      "49/49 [==============================] - 1s 17ms/step - loss: 0.0742 - acc: 0.9801 - val_loss: 0.4467 - val_acc: 0.8608\n",
      "Epoch 18/20\n",
      "49/49 [==============================] - 1s 17ms/step - loss: 0.0705 - acc: 0.9815 - val_loss: 0.4531 - val_acc: 0.8608\n",
      "Epoch 19/20\n",
      "49/49 [==============================] - 1s 17ms/step - loss: 0.0658 - acc: 0.9830 - val_loss: 0.4610 - val_acc: 0.8605\n",
      "Epoch 20/20\n",
      "49/49 [==============================] - 1s 21ms/step - loss: 0.0614 - acc: 0.9851 - val_loss: 0.4787 - val_acc: 0.8598\n"
     ]
    }
   ],
   "source": [
    "smaller_hist= smaller_model.fit(x_train_1, y_train_1, batch_size=512, epochs=20,validation_data=(x_test_1, y_test_1))"
   ]
  },
  {
   "cell_type": "markdown",
   "metadata": {},
   "source": [
    "## Exercice 7 - Get the val loss from the trained model histogram and save them in new variables."
   ]
  },
  {
   "cell_type": "code",
   "execution_count": 10,
   "metadata": {},
   "outputs": [],
   "source": [
    "val_loss_original = original_hist.history['val_loss']\n",
    "val_loss_small = smaller_hist.history['val_loss']"
   ]
  },
  {
   "cell_type": "markdown",
   "metadata": {},
   "source": [
    "## Exercice 8 - Plot validation loss for the original and smaller model"
   ]
  },
  {
   "cell_type": "markdown",
   "metadata": {},
   "source": [
    "##### Plot the validation loss values w.r.t the epochs (we have 20 epochs) and observe the loss value changing trough the epochs increase. What do you observe? which network starts overfitting later? after hom many epochs each network starts overfitting?. Notice that the loss should reduce during the epochs changing, as soon as the loss starts to increase, overfitting happens. (you should have a figure more or less similar to figure 1)\n"
   ]
  },
  {
   "cell_type": "code",
   "execution_count": 11,
   "metadata": {},
   "outputs": [
    {
     "data": {
      "text/plain": [
       "<matplotlib.legend.Legend at 0x20afa3e0760>"
      ]
     },
     "execution_count": 11,
     "metadata": {},
     "output_type": "execute_result"
    },
    {
     "data": {
      "image/png": "[encoded data removed]",
      "text/plain": [
       "<Figure size 432x288 with 1 Axes>"
      ]
     },
     "metadata": {
      "needs_background": "light"
     },
     "output_type": "display_data"
    }
   ],
   "source": [
    "fig, ax = plt.subplots()\n",
    "ax.plot(val_loss_original, '*', label=val_loss_original)\n",
    "ax.plot(val_loss_small, '+',label= val_loss_small)\n",
    "ax.set_xlabel(\"Epochs\")\n",
    "ax.set_ylabel(\"Validation loss\")\n",
    "ax.legend(['val_loss_original', 'val_loss_small'])"
   ]
  },
  {
   "cell_type": "markdown",
   "metadata": {},
   "source": [
    "##### The original model overfits at epoche  = 2, and the smaller model overfits when epoch = 5"
   ]
  },
  {
   "cell_type": "markdown",
   "metadata": {},
   "source": [
    "## Exercice 9 - Design a network that has much more capacity, far more than the problem would warrant"
   ]
  },
  {
   "cell_type": "markdown",
   "metadata": {},
   "source": [
    "#### Call this model bigger model with two dense layers of size 512 and each followed with an activation function relu. Add a final layer of 1 node and an activation function of sigmoid. For your network compilation, define a rmsprop optimizer, with a binary crossentropy and acc as the metric"
   ]
  },
  {
   "cell_type": "code",
   "execution_count": 12,
   "metadata": {},
   "outputs": [],
   "source": [
    "bigger_model = keras.models.Sequential()\n",
    "\n",
    "bigger_model.add(keras.layers.Dense(512, activation = 'relu'))\n",
    "bigger_model.add(keras.layers.Dense(512, activation = 'relu'))\n",
    "bigger_model.add(keras.layers.Dense(1, activation = 'sigmoid'))\n",
    "\n",
    "bigger_model.compile(optimizer='rmsprop',\n",
    "                        loss = 'binary_crossentropy', \n",
    "                        metrics=['acc'])"
   ]
  },
  {
   "cell_type": "markdown",
   "metadata": {},
   "source": [
    "## Exercice 10 - Fit the bigger model "
   ]
  },
  {
   "cell_type": "markdown",
   "metadata": {},
   "source": [
    "#### Fit on the train set with the test set as the validation set, 20 epochs and batch size = 512 and save it in bigger hist"
   ]
  },
  {
   "cell_type": "code",
   "execution_count": 13,
   "metadata": {},
   "outputs": [
    {
     "name": "stdout",
     "output_type": "stream",
     "text": [
      "Epoch 1/20\n",
      "49/49 [==============================] - 6s 113ms/step - loss: 0.4653 - acc: 0.7944 - val_loss: 0.3130 - val_acc: 0.8667\n",
      "Epoch 2/20\n",
      "49/49 [==============================] - 5s 101ms/step - loss: 0.2272 - acc: 0.9115 - val_loss: 0.2836 - val_acc: 0.8851\n",
      "Epoch 3/20\n",
      "49/49 [==============================] - 5s 103ms/step - loss: 0.1301 - acc: 0.9510 - val_loss: 0.3555 - val_acc: 0.8755\n",
      "Epoch 4/20\n",
      "49/49 [==============================] - 5s 101ms/step - loss: 0.0814 - acc: 0.9740 - val_loss: 0.3910 - val_acc: 0.8814\n",
      "Epoch 5/20\n",
      "49/49 [==============================] - 5s 103ms/step - loss: 0.0703 - acc: 0.9859 - val_loss: 0.4205 - val_acc: 0.8814\n",
      "Epoch 6/20\n",
      "49/49 [==============================] - 5s 103ms/step - loss: 0.0029 - acc: 0.9996 - val_loss: 0.6293 - val_acc: 0.8800\n",
      "Epoch 7/20\n",
      "49/49 [==============================] - 5s 103ms/step - loss: 0.1180 - acc: 0.9876 - val_loss: 0.6391 - val_acc: 0.8688\n",
      "Epoch 8/20\n",
      "49/49 [==============================] - 5s 106ms/step - loss: 8.2038e-04 - acc: 1.0000 - val_loss: 0.7283 - val_acc: 0.8794\n",
      "Epoch 9/20\n",
      "49/49 [==============================] - 5s 107ms/step - loss: 8.7802e-05 - acc: 1.0000 - val_loss: 0.9008 - val_acc: 0.8784\n",
      "Epoch 10/20\n",
      "49/49 [==============================] - 5s 108ms/step - loss: 9.6060e-06 - acc: 1.0000 - val_loss: 1.0783 - val_acc: 0.8752\n",
      "Epoch 11/20\n",
      "49/49 [==============================] - 5s 103ms/step - loss: 0.1849 - acc: 0.9873 - val_loss: 1.1055 - val_acc: 0.8561\n",
      "Epoch 12/20\n",
      "49/49 [==============================] - 5s 103ms/step - loss: 1.9230e-04 - acc: 1.0000 - val_loss: 0.9087 - val_acc: 0.8747\n",
      "Epoch 13/20\n",
      "49/49 [==============================] - 5s 104ms/step - loss: 1.6392e-05 - acc: 1.0000 - val_loss: 0.9751 - val_acc: 0.8757\n",
      "Epoch 14/20\n",
      "49/49 [==============================] - 5s 106ms/step - loss: 5.9995e-06 - acc: 1.0000 - val_loss: 1.0558 - val_acc: 0.8745\n",
      "Epoch 15/20\n",
      "49/49 [==============================] - 5s 108ms/step - loss: 9.6526e-07 - acc: 1.0000 - val_loss: 1.1886 - val_acc: 0.8782\n",
      "Epoch 16/20\n",
      "49/49 [==============================] - 5s 104ms/step - loss: 2.0469e-07 - acc: 1.0000 - val_loss: 1.3142 - val_acc: 0.8779\n",
      "Epoch 17/20\n",
      "49/49 [==============================] - 5s 104ms/step - loss: 5.2681e-08 - acc: 1.0000 - val_loss: 1.4146 - val_acc: 0.8784\n",
      "Epoch 18/20\n",
      "49/49 [==============================] - 5s 103ms/step - loss: 2.1772e-08 - acc: 1.0000 - val_loss: 1.4686 - val_acc: 0.8782\n",
      "Epoch 19/20\n",
      "49/49 [==============================] - 5s 103ms/step - loss: 1.3253e-08 - acc: 1.0000 - val_loss: 1.5015 - val_acc: 0.8782\n",
      "Epoch 20/20\n",
      "49/49 [==============================] - 5s 103ms/step - loss: 9.5529e-09 - acc: 1.0000 - val_loss: 1.5253 - val_acc: 0.8783\n"
     ]
    }
   ],
   "source": [
    "bigger_hist =bigger_model.fit(x_train_1, y_train_1, batch_size=512, epochs=20, validation_data=(x_test_1, y_test_1))"
   ]
  },
  {
   "cell_type": "markdown",
   "metadata": {},
   "source": [
    "## Exercice 11 - Plot the bigger and original validation loss changing w.r.t epochs changing. "
   ]
  },
  {
   "cell_type": "markdown",
   "metadata": {},
   "source": [
    "#### Similar to exercise 8. How the bigger network loss changes regarding to the original network. The more capacity the network has, the quicker it will be able to model the training data, but if it converges quickly to 0, this is more susceptible for overfitting!"
   ]
  },
  {
   "cell_type": "code",
   "execution_count": 14,
   "metadata": {},
   "outputs": [],
   "source": [
    "val_loss_bigg = bigger_hist.history['val_loss']"
   ]
  },
  {
   "cell_type": "code",
   "execution_count": 15,
   "metadata": {},
   "outputs": [
    {
     "data": {
      "text/plain": [
       "<matplotlib.legend.Legend at 0x20af62e48e0>"
      ]
     },
     "execution_count": 15,
     "metadata": {},
     "output_type": "execute_result"
    },
    {
     "data": {
      "image/png": "[encoded data removed]",
      "text/plain": [
       "<Figure size 432x288 with 1 Axes>"
      ]
     },
     "metadata": {
      "needs_background": "light"
     },
     "output_type": "display_data"
    }
   ],
   "source": [
    "fig, ax = plt.subplots()\n",
    "ax.plot(val_loss_original, '*', label=val_loss_original)\n",
    "ax.plot(val_loss_bigg, '+',label= val_loss_bigg)\n",
    "ax.set_xlabel(\"Epochs\")\n",
    "ax.set_ylabel(\"Validation loss\")\n",
    "ax.legend(['val_loss_original', 'val_loss_bigg'])"
   ]
  },
  {
   "cell_type": "markdown",
   "metadata": {},
   "source": [
    "##### The bigger model overfits quicker, it never reduces"
   ]
  },
  {
   "cell_type": "markdown",
   "metadata": {},
   "source": [
    "# Weight regularization"
   ]
  },
  {
   "cell_type": "markdown",
   "metadata": {},
   "source": [
    "## Exercice 12 - Modify the original network "
   ]
  },
  {
   "cell_type": "markdown",
   "metadata": {},
   "source": [
    "#### Modify as l2 model by adding an L2 weight regularization to the model1. Add the L2 regularizers to the first two layers."
   ]
  },
  {
   "cell_type": "code",
   "execution_count": 16,
   "metadata": {},
   "outputs": [],
   "source": [
    "from tensorflow.keras import layers\n",
    "from tensorflow.keras import regularizers"
   ]
  },
  {
   "cell_type": "code",
   "execution_count": 17,
   "metadata": {},
   "outputs": [],
   "source": [
    "l2_model = keras.models.Sequential()\n",
    "\n",
    "l2_model.add(keras.layers.Dense(16, activation = 'relu', activity_regularizer=tf.keras.regularizers.l2(0.01)))\n",
    "l2_model.add(keras.layers.Dense(16, activation = 'relu', activity_regularizer=tf.keras.regularizers.l2(0.01)))\n",
    "l2_model.add(keras.layers.Dense(1, activation = 'sigmoid'))\n",
    "\n",
    "l2_model.compile(optimizer='rmsprop',\n",
    "                        loss = 'binary_crossentropy', \n",
    "                        metrics=['acc'])"
   ]
  },
  {
   "cell_type": "markdown",
   "metadata": {},
   "source": [
    "## Exercice 13 - Fit the model l2 on train set with previously presented parameters."
   ]
  },
  {
   "cell_type": "code",
   "execution_count": 18,
   "metadata": {},
   "outputs": [
    {
     "name": "stdout",
     "output_type": "stream",
     "text": [
      "Epoch 1/20\n",
      "49/49 [==============================] - 2s 34ms/step - loss: 0.5186 - acc: 0.8210 - val_loss: 0.4219 - val_acc: 0.8778\n",
      "Epoch 2/20\n",
      "49/49 [==============================] - 1s 19ms/step - loss: 0.3477 - acc: 0.9096 - val_loss: 0.3690 - val_acc: 0.8750\n",
      "Epoch 3/20\n",
      "49/49 [==============================] - 1s 18ms/step - loss: 0.2755 - acc: 0.9318 - val_loss: 0.3374 - val_acc: 0.8861\n",
      "Epoch 4/20\n",
      "49/49 [==============================] - 1s 21ms/step - loss: 0.2327 - acc: 0.9465 - val_loss: 0.3436 - val_acc: 0.8778\n",
      "Epoch 5/20\n",
      "49/49 [==============================] - 1s 22ms/step - loss: 0.2011 - acc: 0.9585 - val_loss: 0.3522 - val_acc: 0.8750\n",
      "Epoch 6/20\n",
      "49/49 [==============================] - 1s 19ms/step - loss: 0.1749 - acc: 0.9676 - val_loss: 0.3587 - val_acc: 0.8734\n",
      "Epoch 7/20\n",
      "49/49 [==============================] - 1s 19ms/step - loss: 0.1561 - acc: 0.9734 - val_loss: 0.3920 - val_acc: 0.8600\n",
      "Epoch 8/20\n",
      "49/49 [==============================] - 1s 19ms/step - loss: 0.1342 - acc: 0.9821 - val_loss: 0.4058 - val_acc: 0.8579\n",
      "Epoch 9/20\n",
      "49/49 [==============================] - 1s 19ms/step - loss: 0.1205 - acc: 0.9860 - val_loss: 0.3927 - val_acc: 0.8627\n",
      "Epoch 10/20\n",
      "49/49 [==============================] - 1s 19ms/step - loss: 0.1083 - acc: 0.9878 - val_loss: 0.4109 - val_acc: 0.8586\n",
      "Epoch 11/20\n",
      "49/49 [==============================] - 1s 20ms/step - loss: 0.0985 - acc: 0.9898 - val_loss: 0.4141 - val_acc: 0.8582\n",
      "Epoch 12/20\n",
      "49/49 [==============================] - 1s 21ms/step - loss: 0.0861 - acc: 0.9936 - val_loss: 0.4225 - val_acc: 0.8582\n",
      "Epoch 13/20\n",
      "49/49 [==============================] - 1s 19ms/step - loss: 0.0795 - acc: 0.9939 - val_loss: 0.5467 - val_acc: 0.8171\n",
      "Epoch 14/20\n",
      "49/49 [==============================] - 1s 19ms/step - loss: 0.0711 - acc: 0.9954 - val_loss: 0.4348 - val_acc: 0.8516\n",
      "Epoch 15/20\n",
      "49/49 [==============================] - 1s 19ms/step - loss: 0.0671 - acc: 0.9949 - val_loss: 0.4401 - val_acc: 0.8502\n",
      "Epoch 16/20\n",
      "49/49 [==============================] - 1s 19ms/step - loss: 0.0616 - acc: 0.9961 - val_loss: 0.4645 - val_acc: 0.8419\n",
      "Epoch 17/20\n",
      "49/49 [==============================] - 1s 20ms/step - loss: 0.0663 - acc: 0.9931 - val_loss: 0.4347 - val_acc: 0.8512\n",
      "Epoch 18/20\n",
      "49/49 [==============================] - 1s 18ms/step - loss: 0.0552 - acc: 0.9962 - val_loss: 0.4532 - val_acc: 0.8476\n",
      "Epoch 19/20\n",
      "49/49 [==============================] - 1s 17ms/step - loss: 0.0537 - acc: 0.9958 - val_loss: 0.4605 - val_acc: 0.8454\n",
      "Epoch 20/20\n",
      "49/49 [==============================] - 1s 18ms/step - loss: 0.0554 - acc: 0.9941 - val_loss: 0.4599 - val_acc: 0.8455\n"
     ]
    }
   ],
   "source": [
    "l2_hist =l2_model.fit(x_train_1, y_train_1, batch_size=512, epochs=20, validation_data=(x_test_1, y_test_1))"
   ]
  },
  {
   "cell_type": "markdown",
   "metadata": {},
   "source": [
    "## Exe. 14 Plot the validation loss w.r.t epochs changing for original model and l2 model"
   ]
  },
  {
   "cell_type": "markdown",
   "metadata": {},
   "source": [
    "#### Observe, the model with L2 regularization and see how it is more resistant to overfitting than the original model, even though both models have the same number of parameters."
   ]
  },
  {
   "cell_type": "code",
   "execution_count": 19,
   "metadata": {},
   "outputs": [],
   "source": [
    "val_loss_l2 = l2_hist.history['val_loss']"
   ]
  },
  {
   "cell_type": "code",
   "execution_count": 20,
   "metadata": {},
   "outputs": [
    {
     "data": {
      "text/plain": [
       "<matplotlib.legend.Legend at 0x20aca960a00>"
      ]
     },
     "execution_count": 20,
     "metadata": {},
     "output_type": "execute_result"
    },
    {
     "data": {
      "image/png": "[encoded data removed]",
      "text/plain": [
       "<Figure size 432x288 with 1 Axes>"
      ]
     },
     "metadata": {
      "needs_background": "light"
     },
     "output_type": "display_data"
    }
   ],
   "source": [
    "fig, ax = plt.subplots()\n",
    "ax.plot(val_loss_original, '*', label=val_loss_original)\n",
    "ax.plot(val_loss_l2, '+',label= val_loss_l2)\n",
    "ax.set_xlabel(\"Epochs\")\n",
    "ax.set_ylabel(\"Validation loss\")\n",
    "ax.legend(['val_loss_original', 'val_loss_l2'])"
   ]
  },
  {
   "cell_type": "markdown",
   "metadata": {},
   "source": [
    "###### from keras import regularizers\n",
    "###### regularizers . l1 (0.001) // L1 regularization\n",
    "###### regularizers . l1_l2 ( l1 =0.001 , l2 =0.001) // L1 and L2 regularization at the same time"
   ]
  },
  {
   "cell_type": "markdown",
   "metadata": {},
   "source": [
    "# Adding Dropout"
   ]
  },
  {
   "cell_type": "markdown",
   "metadata": {},
   "source": [
    "## Exercice 15 - Modify the original network by adding a dropout after each layer of 16 nodes. Name this model dpt model\n"
   ]
  },
  {
   "cell_type": "code",
   "execution_count": 21,
   "metadata": {},
   "outputs": [],
   "source": [
    "dpt_model = keras.models.Sequential()\n",
    "\n",
    "dpt_model.add(keras.layers.Dense(16, activation = 'relu'))\n",
    "dpt_model.add(keras.layers.Dropout(0.5)) # 50% of nodes should be dropped for the following layer randomly\n",
    "\n",
    "dpt_model.add(keras.layers.Dense(16, activation = 'relu'))\n",
    "dpt_model.add(keras.layers.Dropout(0.5))\n",
    "\n",
    "dpt_model.add(keras.layers.Dense(1, activation = 'sigmoid'))\n",
    "\n",
    "dpt_model.compile(optimizer='rmsprop',\n",
    "                        loss = 'binary_crossentropy', \n",
    "                        metrics=['acc'])"
   ]
  },
  {
   "cell_type": "markdown",
   "metadata": {},
   "source": [
    "## Exercice 16 - Fit the model on the set with previously presented parameters."
   ]
  },
  {
   "cell_type": "code",
   "execution_count": 22,
   "metadata": {},
   "outputs": [
    {
     "name": "stdout",
     "output_type": "stream",
     "text": [
      "Epoch 1/20\n",
      "49/49 [==============================] - 1s 29ms/step - loss: 0.6042 - acc: 0.6752 - val_loss: 0.4753 - val_acc: 0.8618\n",
      "Epoch 2/20\n",
      "49/49 [==============================] - 1s 22ms/step - loss: 0.4665 - acc: 0.8162 - val_loss: 0.3702 - val_acc: 0.8766\n",
      "Epoch 3/20\n",
      "49/49 [==============================] - 1s 19ms/step - loss: 0.3780 - acc: 0.8630 - val_loss: 0.3113 - val_acc: 0.8833\n",
      "Epoch 4/20\n",
      "49/49 [==============================] - 1s 17ms/step - loss: 0.3165 - acc: 0.8888 - val_loss: 0.2912 - val_acc: 0.8896\n",
      "Epoch 5/20\n",
      "49/49 [==============================] - 1s 18ms/step - loss: 0.2777 - acc: 0.9054 - val_loss: 0.2827 - val_acc: 0.8872\n",
      "Epoch 6/20\n",
      "49/49 [==============================] - 1s 26ms/step - loss: 0.2487 - acc: 0.9168 - val_loss: 0.2891 - val_acc: 0.8877\n",
      "Epoch 7/20\n",
      "49/49 [==============================] - 1s 19ms/step - loss: 0.2235 - acc: 0.9274 - val_loss: 0.3012 - val_acc: 0.8855\n",
      "Epoch 8/20\n",
      "49/49 [==============================] - 1s 18ms/step - loss: 0.2026 - acc: 0.9318 - val_loss: 0.3122 - val_acc: 0.8860\n",
      "Epoch 9/20\n",
      "49/49 [==============================] - 1s 21ms/step - loss: 0.1843 - acc: 0.9388 - val_loss: 0.3322 - val_acc: 0.8834\n",
      "Epoch 10/20\n",
      "49/49 [==============================] - 1s 19ms/step - loss: 0.1696 - acc: 0.9435 - val_loss: 0.3599 - val_acc: 0.8830\n",
      "Epoch 11/20\n",
      "49/49 [==============================] - 1s 22ms/step - loss: 0.1595 - acc: 0.9476 - val_loss: 0.3811 - val_acc: 0.8810\n",
      "Epoch 12/20\n",
      "49/49 [==============================] - 1s 18ms/step - loss: 0.1492 - acc: 0.9511 - val_loss: 0.4094 - val_acc: 0.8746\n",
      "Epoch 13/20\n",
      "49/49 [==============================] - 1s 19ms/step - loss: 0.1377 - acc: 0.9540 - val_loss: 0.4142 - val_acc: 0.8798\n",
      "Epoch 14/20\n",
      "49/49 [==============================] - 1s 20ms/step - loss: 0.1342 - acc: 0.9545 - val_loss: 0.4449 - val_acc: 0.8752\n",
      "Epoch 15/20\n",
      "49/49 [==============================] - 1s 19ms/step - loss: 0.1254 - acc: 0.9577 - val_loss: 0.4625 - val_acc: 0.8789\n",
      "Epoch 16/20\n",
      "49/49 [==============================] - 1s 21ms/step - loss: 0.1250 - acc: 0.9573 - val_loss: 0.4867 - val_acc: 0.8757\n",
      "Epoch 17/20\n",
      "49/49 [==============================] - 1s 21ms/step - loss: 0.1154 - acc: 0.9598 - val_loss: 0.5134 - val_acc: 0.8779\n",
      "Epoch 18/20\n",
      "49/49 [==============================] - 1s 19ms/step - loss: 0.1181 - acc: 0.9600 - val_loss: 0.5163 - val_acc: 0.8760\n",
      "Epoch 19/20\n",
      "49/49 [==============================] - 1s 20ms/step - loss: 0.1121 - acc: 0.9596 - val_loss: 0.5360 - val_acc: 0.8712\n",
      "Epoch 20/20\n",
      "49/49 [==============================] - 1s 23ms/step - loss: 0.1116 - acc: 0.9608 - val_loss: 0.5624 - val_acc: 0.8754\n"
     ]
    }
   ],
   "source": [
    "dpt_hist =dpt_model.fit(x_train_1, y_train_1, batch_size=512, epochs=20, validation_data=(x_test_1, y_test_1))"
   ]
  },
  {
   "cell_type": "markdown",
   "metadata": {},
   "source": [
    "## Exercice 17 - Plot the validation loss changing w.r.t the epochs changing for two original and dropout model"
   ]
  },
  {
   "cell_type": "markdown",
   "metadata": {},
   "source": [
    "####  What are your observations? Do you see any improvement over the original network?"
   ]
  },
  {
   "cell_type": "code",
   "execution_count": 23,
   "metadata": {},
   "outputs": [],
   "source": [
    "val_loss_dpt = dpt_hist.history['val_loss']"
   ]
  },
  {
   "cell_type": "code",
   "execution_count": 24,
   "metadata": {},
   "outputs": [
    {
     "data": {
      "text/plain": [
       "<matplotlib.legend.Legend at 0x20a9192bfd0>"
      ]
     },
     "execution_count": 24,
     "metadata": {},
     "output_type": "execute_result"
    },
    {
     "data": {
      "image/png": "[encoded data removed]",
      "text/plain": [
       "<Figure size 432x288 with 1 Axes>"
      ]
     },
     "metadata": {
      "needs_background": "light"
     },
     "output_type": "display_data"
    }
   ],
   "source": [
    "fig, ax = plt.subplots()\n",
    "ax.plot(val_loss_original, '*', label=val_loss_original)\n",
    "ax.plot(val_loss_dpt, '+',label= val_loss_dpt)\n",
    "ax.set_xlabel(\"Epochs\")\n",
    "ax.set_ylabel(\"Validation loss\")\n",
    "ax.legend(['val_loss_original', 'val_loss_dpt'])"
   ]
  },
  {
   "cell_type": "markdown",
   "metadata": {},
   "source": [
    "##### The dpt_model overfits at the epoch 4 when the original overfits at the epoch 2. We can say that the dpt_model is an improvement over the original netwotk"
   ]
  },
  {
   "cell_type": "markdown",
   "metadata": {},
   "source": [
    "# Dataset 2"
   ]
  },
  {
   "cell_type": "markdown",
   "metadata": {},
   "source": [
    "## Exercice 1 - Load House Price DataSet"
   ]
  },
  {
   "cell_type": "markdown",
   "metadata": {},
   "source": [
    "##### The goal is to predict the median price of homes in a given Boston suburb in the mid-1970s, given data points about the suburb at the time, such as the crime rate, the local property tax rate, and so on. Load the boston housing dataset in train and test and check the data shape and sizes\n",
    "##### The targets are the median values of owner-occupied homes, in thousands of dollars. Print them to check their data"
   ]
  },
  {
   "cell_type": "code",
   "execution_count": 25,
   "metadata": {},
   "outputs": [],
   "source": [
    "( train_data , train_targets ) , ( test_data , test_targets ) = tf.keras.datasets.boston_housing.load_data()"
   ]
  },
  {
   "cell_type": "code",
   "execution_count": 26,
   "metadata": {},
   "outputs": [
    {
     "name": "stdout",
     "output_type": "stream",
     "text": [
      "SIZE\n",
      "train_data size: 5252 test_data size: 1326\n",
      "train_labels size: 404 test_labels size: 102\n",
      "\n",
      "SHAPE\n",
      "train_data shape: (404, 13) test_data shape: (102, 13)\n",
      "train_labels shape: (404,) test_labels shape: (102,)\n"
     ]
    }
   ],
   "source": [
    "print(\"SIZE\")\n",
    "print(\"train_data size:\",train_data.size, \"test_data size:\",test_data.size)\n",
    "print(\"train_labels size:\",train_targets.size, \"test_labels size:\",test_targets.size)\n",
    "print(\"\\nSHAPE\")\n",
    "\n",
    "print(\"train_data shape:\",train_data.shape, \"test_data shape:\",test_data.shape)\n",
    "print(\"train_labels shape:\",train_targets.shape, \"test_labels shape:\",test_targets.shape)"
   ]
  },
  {
   "cell_type": "code",
   "execution_count": 27,
   "metadata": {},
   "outputs": [
    {
     "data": {
      "text/plain": [
       "array([15.2, 42.3, 50. , 21.1, 17.7, 18.5, 11.3, 15.6, 15.6, 14.4, 12.1,\n",
       "       17.9, 23.1, 19.9, 15.7,  8.8, 50. , 22.5, 24.1, 27.5, 10.9, 30.8,\n",
       "       32.9, 24. , 18.5, 13.3, 22.9, 34.7, 16.6, 17.5, 22.3, 16.1, 14.9,\n",
       "       23.1, 34.9, 25. , 13.9, 13.1, 20.4, 20. , 15.2, 24.7, 22.2, 16.7,\n",
       "       12.7, 15.6, 18.4, 21. , 30.1, 15.1, 18.7,  9.6, 31.5, 24.8, 19.1,\n",
       "       22. , 14.5, 11. , 32. , 29.4, 20.3, 24.4, 14.6, 19.5, 14.1, 14.3,\n",
       "       15.6, 10.5,  6.3, 19.3, 19.3, 13.4, 36.4, 17.8, 13.5, 16.5,  8.3,\n",
       "       14.3, 16. , 13.4, 28.6, 43.5, 20.2, 22. , 23. , 20.7, 12.5, 48.5,\n",
       "       14.6, 13.4, 23.7, 50. , 21.7, 39.8, 38.7, 22.2, 34.9, 22.5, 31.1,\n",
       "       28.7, 46. , 41.7, 21. , 26.6, 15. , 24.4, 13.3, 21.2, 11.7, 21.7,\n",
       "       19.4, 50. , 22.8, 19.7, 24.7, 36.2, 14.2, 18.9, 18.3, 20.6, 24.6,\n",
       "       18.2,  8.7, 44. , 10.4, 13.2, 21.2, 37. , 30.7, 22.9, 20. , 19.3,\n",
       "       31.7, 32. , 23.1, 18.8, 10.9, 50. , 19.6,  5. , 14.4, 19.8, 13.8,\n",
       "       19.6, 23.9, 24.5, 25. , 19.9, 17.2, 24.6, 13.5, 26.6, 21.4, 11.9,\n",
       "       22.6, 19.6,  8.5, 23.7, 23.1, 22.4, 20.5, 23.6, 18.4, 35.2, 23.1,\n",
       "       27.9, 20.6, 23.7, 28. , 13.6, 27.1, 23.6, 20.6, 18.2, 21.7, 17.1,\n",
       "        8.4, 25.3, 13.8, 22.2, 18.4, 20.7, 31.6, 30.5, 20.3,  8.8, 19.2,\n",
       "       19.4, 23.1, 23. , 14.8, 48.8, 22.6, 33.4, 21.1, 13.6, 32.2, 13.1,\n",
       "       23.4, 18.9, 23.9, 11.8, 23.3, 22.8, 19.6, 16.7, 13.4, 22.2, 20.4,\n",
       "       21.8, 26.4, 14.9, 24.1, 23.8, 12.3, 29.1, 21. , 19.5, 23.3, 23.8,\n",
       "       17.8, 11.5, 21.7, 19.9, 25. , 33.4, 28.5, 21.4, 24.3, 27.5, 33.1,\n",
       "       16.2, 23.3, 48.3, 22.9, 22.8, 13.1, 12.7, 22.6, 15. , 15.3, 10.5,\n",
       "       24. , 18.5, 21.7, 19.5, 33.2, 23.2,  5. , 19.1, 12.7, 22.3, 10.2,\n",
       "       13.9, 16.3, 17. , 20.1, 29.9, 17.2, 37.3, 45.4, 17.8, 23.2, 29. ,\n",
       "       22. , 18. , 17.4, 34.6, 20.1, 25. , 15.6, 24.8, 28.2, 21.2, 21.4,\n",
       "       23.8, 31. , 26.2, 17.4, 37.9, 17.5, 20. ,  8.3, 23.9,  8.4, 13.8,\n",
       "        7.2, 11.7, 17.1, 21.6, 50. , 16.1, 20.4, 20.6, 21.4, 20.6, 36.5,\n",
       "        8.5, 24.8, 10.8, 21.9, 17.3, 18.9, 36.2, 14.9, 18.2, 33.3, 21.8,\n",
       "       19.7, 31.6, 24.8, 19.4, 22.8,  7.5, 44.8, 16.8, 18.7, 50. , 50. ,\n",
       "       19.5, 20.1, 50. , 17.2, 20.8, 19.3, 41.3, 20.4, 20.5, 13.8, 16.5,\n",
       "       23.9, 20.6, 31.5, 23.3, 16.8, 14. , 33.8, 36.1, 12.8, 18.3, 18.7,\n",
       "       19.1, 29. , 30.1, 50. , 50. , 22. , 11.9, 37.6, 50. , 22.7, 20.8,\n",
       "       23.5, 27.9, 50. , 19.3, 23.9, 22.6, 15.2, 21.7, 19.2, 43.8, 20.3,\n",
       "       33.2, 19.9, 22.5, 32.7, 22. , 17.1, 19. , 15. , 16.1, 25.1, 23.7,\n",
       "       28.7, 37.2, 22.6, 16.4, 25. , 29.8, 22.1, 17.4, 18.1, 30.3, 17.5,\n",
       "       24.7, 12.6, 26.5, 28.7, 13.3, 10.4, 24.4, 23. , 20. , 17.8,  7. ,\n",
       "       11.8, 24.4, 13.8, 19.4, 25.2, 19.4, 19.4, 29.1])"
      ]
     },
     "execution_count": 27,
     "metadata": {},
     "output_type": "execute_result"
    }
   ],
   "source": [
    "train_targets"
   ]
  },
  {
   "cell_type": "code",
   "execution_count": 28,
   "metadata": {},
   "outputs": [
    {
     "data": {
      "text/plain": [
       "Text(0.5, 1.0, 'Median values of owner-occupied homes, in $1 000')"
      ]
     },
     "execution_count": 28,
     "metadata": {},
     "output_type": "execute_result"
    },
    {
     "data": {
      "image/png": "[encoded data removed]",
      "text/plain": [
       "<Figure size 432x288 with 1 Axes>"
      ]
     },
     "metadata": {
      "needs_background": "light"
     },
     "output_type": "display_data"
    }
   ],
   "source": [
    "plt.plot(train_targets, \"+\")\n",
    "plt.ylabel(\"Values\")\n",
    "plt.title(\"Median values of owner-occupied homes, in $1 000\")"
   ]
  },
  {
   "cell_type": "markdown",
   "metadata": {},
   "source": [
    "###### It goes from $1 000 to $50 000"
   ]
  },
  {
   "cell_type": "markdown",
   "metadata": {},
   "source": [
    "## Exe. 2 Normalizing data "
   ]
  },
  {
   "cell_type": "markdown",
   "metadata": {},
   "source": [
    "##### For each feature in the input data (a column in the input data matrix), subtract the mean of the feature and divide by the standard deviation i.e. ∀x, x = (x−µ) / σ . In this way the feature is centered around 0 and has a unit standard deviation. \n",
    "##### Hint: use .mean(axis=0) and .std(axis=0) for computing mean and standard deviation."
   ]
  },
  {
   "cell_type": "code",
   "execution_count": 29,
   "metadata": {},
   "outputs": [
    {
     "name": "stdout",
     "output_type": "stream",
     "text": [
      "mean: [3.74511057e+00 1.14801980e+01 1.11044307e+01 6.18811881e-02\n",
      " 5.57355941e-01 6.26708168e+00 6.90106436e+01 3.74027079e+00\n",
      " 9.44059406e+00 4.05898515e+02 1.84759901e+01 3.54783168e+02\n",
      " 1.27408168e+01] \n",
      "std: [9.22929073e+00 2.37382770e+01 6.80287253e+00 2.40939633e-01\n",
      " 1.17147847e-01 7.08908627e-01 2.79060634e+01 2.02770050e+00\n",
      " 8.68758849e+00 1.66168506e+02 2.19765689e+00 9.39946015e+01\n",
      " 7.24556085e+00]\n"
     ]
    }
   ],
   "source": [
    "mean = train_data.mean(axis=0)\n",
    "std = train_data.std(axis=0)\n",
    "print(\"mean:\",mean, \"\\nstd:\",std)"
   ]
  },
  {
   "cell_type": "code",
   "execution_count": 30,
   "metadata": {},
   "outputs": [],
   "source": [
    "for i in range(13):\n",
    "    for j in range(len(train_data)):\n",
    "        train_data[j][i] = (train_data[j][i] - mean[i]) / std[i]"
   ]
  },
  {
   "cell_type": "code",
   "execution_count": 31,
   "metadata": {},
   "outputs": [
    {
     "data": {
      "text/plain": [
       "array([[-0.27224633, -0.48361547, -0.43576161, ...,  1.14850044,\n",
       "         0.44807713,  0.8252202 ],\n",
       "       [-0.40342651,  2.99178419, -1.33391162, ..., -1.71818909,\n",
       "         0.43190599, -1.32920239],\n",
       "       [ 0.1249402 , -0.48361547,  1.0283258 , ...,  0.78447637,\n",
       "         0.22061726, -1.30850006],\n",
       "       ...,\n",
       "       [-0.40202987,  0.99079651, -0.7415148 , ..., -0.71712291,\n",
       "         0.07943894, -0.67776904],\n",
       "       [-0.17292018, -0.48361547,  1.24588095, ..., -1.71818909,\n",
       "        -0.98764362,  0.42083466],\n",
       "       [-0.40422614,  2.04394792, -1.20161456, ..., -1.30866202,\n",
       "         0.23317118, -1.15392266]])"
      ]
     },
     "execution_count": 31,
     "metadata": {},
     "output_type": "execute_result"
    }
   ],
   "source": [
    "train_data"
   ]
  },
  {
   "cell_type": "markdown",
   "metadata": {},
   "source": [
    "## Exercice 3 - Model definition "
   ]
  },
  {
   "cell_type": "markdown",
   "metadata": {},
   "source": [
    "##### Because so few samples are available, use a very small network with two hidden layers, each with 64 units and relu activation. To have a linear layer output, add a final layer with a single unit and no activation function. Compile the network with the mse ( mean squared error) loss function. Monitoring a new metric during training: mean absolute error ( mae ) 3. Finally define the optimizer = ’rmsprop’ in the model compilation. Define the model in a function named build model()."
   ]
  },
  {
   "cell_type": "markdown",
   "metadata": {},
   "source": [
    "##### Notice In general, the less training data you have, the worse overfitting will be, and using a small network is one way to mitigate overfitting. Applying an activation function would constrain the range the output can take; for instance, if you applied a sigmoid activation function to the last layer,the network could only learn to predict values between 0 and 1. Here, because the last layer is purely linear, the network is free to learn to predict values in any range"
   ]
  },
  {
   "cell_type": "code",
   "execution_count": 32,
   "metadata": {},
   "outputs": [],
   "source": [
    "from tensorflow.keras import models\n",
    "from tensorflow.keras import layers"
   ]
  },
  {
   "cell_type": "code",
   "execution_count": 33,
   "metadata": {},
   "outputs": [],
   "source": [
    "def build_model () :\n",
    "    model = models.Sequential ()\n",
    "\n",
    "    model.add(keras.layers.Dense(64, activation = 'relu'))\n",
    "    model.add(keras.layers.Dense(64, activation = 'relu'))\n",
    "    model.add(keras.layers.Dense(1))\n",
    "\n",
    "    model.compile(optimizer='rmsprop',\n",
    "                        loss = 'mse', \n",
    "                        metrics=['mae'])\n",
    "    return model"
   ]
  },
  {
   "cell_type": "markdown",
   "metadata": {},
   "source": [
    "## Exercice 4 - Model Validation"
   ]
  },
  {
   "cell_type": "markdown",
   "metadata": {},
   "source": [
    "##### To evaluate the network while we keep adjusting its parameters (such as the number of epochs used for training), we can split the data into a training set and a test set (here we name it as a validation set), as you did in machine learning examples. Because of few data points, the validation set would end up being very small (for instance, about 100 examples).\n",
    "##### As a consequence, the validation scores might change a lot depending on which data points we chose to use for validation and which we chose for training: the validation scores might have a high variance with regard to the validation split. This would prevent you from reliably evaluating our model.\n",
    "##### The best practice in such situations is to use K-fold cross-validation (see figure 2). It consists of splitting the available data into K partitions (typically K = 4 or 5), instantiating K identical models, and training each one on K−1 partitions while evaluating on the remaining partition. The validation score for the model used is then the average of the K validation scores obtained."
   ]
  },
  {
   "cell_type": "code",
   "execution_count": 34,
   "metadata": {},
   "outputs": [],
   "source": [
    "import numpy as np"
   ]
  },
  {
   "cell_type": "code",
   "execution_count": 35,
   "metadata": {},
   "outputs": [
    {
     "name": "stdout",
     "output_type": "stream",
     "text": [
      "processing fold # 0\n",
      "processing fold # 1\n",
      "processing fold # 2\n",
      "processing fold # 3\n"
     ]
    }
   ],
   "source": [
    "k = 4\n",
    "num_val_samples = len (train_data)//k\n",
    "num_epochs = 100\n",
    "all_scores = []\n",
    "\n",
    "for i in range(k):\n",
    "    print ('processing fold #', i )\n",
    "    val_data = train_data [i * num_val_samples : ( i + 1) * num_val_samples ]\n",
    "    val_targets = train_targets [i * num_val_samples : (i + 1) * num_val_samples ]\n",
    "    \n",
    "    partial_train_data = np.concatenate ([ train_data [: i * num_val_samples ], train_data [( i + 1) * num_val_samples :]] , axis=0)\n",
    "    partial_train_targets = np.concatenate ([ train_targets [: i * num_val_samples ], train_targets [( i + 1) * num_val_samples :]] ,axis =0)\n",
    "    \n",
    "    model= build_model()\n",
    "    model.fit(partial_train_data, partial_train_targets, epochs=num_epochs, batch_size=1, verbose=0)\n",
    "    \"\"\" the following line is for evaluating the test set \"\"\"\n",
    "    val_mse, val_mae = model.evaluate(val_data, val_targets, verbose=0)\n",
    "    all_scores.append(val_mae)"
   ]
  },
  {
   "cell_type": "code",
   "execution_count": 36,
   "metadata": {},
   "outputs": [
    {
     "data": {
      "text/plain": [
       "[2.0431900024414062, 2.375586748123169, 2.580073356628418, 2.450376272201538]"
      ]
     },
     "execution_count": 36,
     "metadata": {},
     "output_type": "execute_result"
    }
   ],
   "source": [
    "all_scores"
   ]
  },
  {
   "cell_type": "markdown",
   "metadata": {},
   "source": [
    "## Exercice 5 - Print the overall score of your model and check its average"
   ]
  },
  {
   "cell_type": "code",
   "execution_count": 37,
   "metadata": {},
   "outputs": [
    {
     "data": {
      "text/plain": [
       "2.362306594848633"
      ]
     },
     "execution_count": 37,
     "metadata": {},
     "output_type": "execute_result"
    }
   ],
   "source": [
    "np.mean(all_scores)"
   ]
  },
  {
   "cell_type": "code",
   "execution_count": 38,
   "metadata": {},
   "outputs": [
    {
     "data": {
      "text/plain": [
       "Text(0.5, 1.0, 'Overall score')"
      ]
     },
     "execution_count": 38,
     "metadata": {},
     "output_type": "execute_result"
    },
    {
     "data": {
      "image/png": "[encoded data removed]",
      "text/plain": [
       "<Figure size 432x288 with 1 Axes>"
      ]
     },
     "metadata": {
      "needs_background": "light"
     },
     "output_type": "display_data"
    }
   ],
   "source": [
    "plt.plot(all_scores,'--o')\n",
    "plt.xlabel(\"k\")\n",
    "plt.ylabel('value of val mae')\n",
    "plt.title(\"Overall score\")"
   ]
  },
  {
   "cell_type": "markdown",
   "metadata": {},
   "source": [
    "## Exercice 6 - Now training the network a bit longer: 500 epochs"
   ]
  },
  {
   "cell_type": "markdown",
   "metadata": {},
   "source": [
    "##### To keep a record of how well the model does at each epoch, we should modify the training loop to save the per-epoch validation score log. Modify the code from the previous exercise in order to save val mean absolute error after each epoch for any fold of cross validation. "
   ]
  },
  {
   "cell_type": "code",
   "execution_count": 39,
   "metadata": {},
   "outputs": [
    {
     "name": "stdout",
     "output_type": "stream",
     "text": [
      "processing fold # 0\n",
      "processing fold # 1\n",
      "processing fold # 2\n",
      "processing fold # 3\n"
     ]
    }
   ],
   "source": [
    "k = 4\n",
    "num_val_samples = len (train_data)//k\n",
    "num_epochs = 500\n",
    "all_mae_histories = []\n",
    "\n",
    "for i in range(k):\n",
    "    print ('processing fold #', i )\n",
    "    val_data = train_data [i * num_val_samples : ( i + 1) * num_val_samples ]\n",
    "    val_targets = train_targets [i * num_val_samples : (i + 1) * num_val_samples ]\n",
    "    \n",
    "    partial_train_data = np.concatenate ([ train_data [: i * num_val_samples ], train_data [( i + 1) * num_val_samples :]] , axis=0)\n",
    "    partial_train_targets = np.concatenate ([ train_targets [: i * num_val_samples ], train_targets [( i + 1) * num_val_samples :]] ,axis =0)\n",
    "    \n",
    "    model= build_model()\n",
    "    history =  model.fit(partial_train_data , partial_train_targets , validation_data =( val_data , val_targets ) , epochs = num_epochs , batch_size =1 , verbose =0)\n",
    "    mae_history = history.history['val_mae']\n",
    "    all_mae_histories.append(mae_history)"
   ]
  },
  {
   "cell_type": "markdown",
   "metadata": {},
   "source": [
    "## Exercice 7 - Compute the average of the per-epoch mae scores for all folds"
   ]
  },
  {
   "cell_type": "code",
   "execution_count": 40,
   "metadata": {},
   "outputs": [],
   "source": [
    "average_mae_history = [np.mean([x[i] for x in all_mae_histories]) for i in range(num_epochs)]"
   ]
  },
  {
   "cell_type": "code",
   "execution_count": 41,
   "metadata": {},
   "outputs": [
    {
     "data": {
      "text/plain": [
       "[4.573754906654358,\n",
       " 3.4749468564987183,\n",
       " 3.0101593732833862,\n",
       " 2.9047537446022034,\n",
       " 2.7299124598503113,\n",
       " 2.701132595539093,\n",
       " 2.7762144207954407,\n",
       " 2.6078320741653442,\n",
       " 2.600783586502075,\n",
       " 2.4744486808776855,\n",
       " 2.596275269985199,\n",
       " 2.5360938906669617,\n",
       " 2.538826882839203,\n",
       " 2.436959683895111,\n",
       " 2.482665181159973,\n",
       " 2.449303150177002,\n",
       " 2.459681451320648,\n",
       " 2.447714388370514,\n",
       " 2.5256311893463135,\n",
       " 2.420512408018112,\n",
       " 2.3136329352855682,\n",
       " 2.68901789188385,\n",
       " 2.58932363986969,\n",
       " 2.605937898159027,\n",
       " 2.3933740854263306,\n",
       " 2.2103640139102936,\n",
       " 2.2618672847747803,\n",
       " 2.305818259716034,\n",
       " 2.5759031176567078,\n",
       " 2.230708062648773,\n",
       " 2.243033677339554,\n",
       " 2.278561443090439,\n",
       " 2.3175670206546783,\n",
       " 2.377968579530716,\n",
       " 2.1858763098716736,\n",
       " 2.3936739563941956,\n",
       " 2.357366979122162,\n",
       " 2.3185432851314545,\n",
       " 2.3449554443359375,\n",
       " 2.201667219400406,\n",
       " 2.276824653148651,\n",
       " 2.302782267332077,\n",
       " 2.3712044656276703,\n",
       " 2.3045255541801453,\n",
       " 2.276209533214569,\n",
       " 2.236076235771179,\n",
       " 2.2431683242321014,\n",
       " 2.293169140815735,\n",
       " 2.210101306438446,\n",
       " 2.342462956905365,\n",
       " 2.3239541053771973,\n",
       " 2.4890166521072388,\n",
       " 2.2941521406173706,\n",
       " 2.4576051235198975,\n",
       " 2.32561331987381,\n",
       " 2.30354768037796,\n",
       " 2.352011024951935,\n",
       " 2.3554263710975647,\n",
       " 2.2523273825645447,\n",
       " 2.2732983827590942,\n",
       " 2.188919186592102,\n",
       " 2.4110415279865265,\n",
       " 2.326066792011261,\n",
       " 2.3619226217269897,\n",
       " 2.2166455388069153,\n",
       " 2.369054436683655,\n",
       " 2.2196925580501556,\n",
       " 2.326213151216507,\n",
       " 2.4440356492996216,\n",
       " 2.409098505973816,\n",
       " 2.400089204311371,\n",
       " 2.426984190940857,\n",
       " 2.310408055782318,\n",
       " 2.312479794025421,\n",
       " 2.375084936618805,\n",
       " 2.28792142868042,\n",
       " 2.267336428165436,\n",
       " 2.409415066242218,\n",
       " 2.3149845004081726,\n",
       " 2.3255740106105804,\n",
       " 2.3461575508117676,\n",
       " 2.3192420303821564,\n",
       " 2.321547120809555,\n",
       " 2.3038204312324524,\n",
       " 2.3706383109092712,\n",
       " 2.360403835773468,\n",
       " 2.4824132919311523,\n",
       " 2.4110701084136963,\n",
       " 2.273742914199829,\n",
       " 2.3149383664131165,\n",
       " 2.4036242961883545,\n",
       " 2.3439329862594604,\n",
       " 2.248773545026779,\n",
       " 2.374210298061371,\n",
       " 2.3264599442481995,\n",
       " 2.33238422870636,\n",
       " 2.328307569026947,\n",
       " 2.360474407672882,\n",
       " 2.3276301622390747,\n",
       " 2.318174123764038,\n",
       " 2.2722947895526886,\n",
       " 2.2849560379981995,\n",
       " 2.3224799633026123,\n",
       " 2.431367576122284,\n",
       " 2.37512868642807,\n",
       " 2.3875060081481934,\n",
       " 2.4540493488311768,\n",
       " 2.348269999027252,\n",
       " 2.2464637756347656,\n",
       " 2.276054799556732,\n",
       " 2.40287983417511,\n",
       " 2.597388446331024,\n",
       " 2.4410168528556824,\n",
       " 2.3776841163635254,\n",
       " 2.4736571609973907,\n",
       " 2.26954585313797,\n",
       " 2.326540470123291,\n",
       " 2.4173214435577393,\n",
       " 2.3219261169433594,\n",
       " 2.302505850791931,\n",
       " 2.5022199153900146,\n",
       " 2.457446277141571,\n",
       " 2.4606422185897827,\n",
       " 2.3386573791503906,\n",
       " 2.4893380999565125,\n",
       " 2.4451711773872375,\n",
       " 2.4341225028038025,\n",
       " 2.3801117539405823,\n",
       " 2.3618922233581543,\n",
       " 2.4045180082321167,\n",
       " 2.3991953134536743,\n",
       " 2.4459957480430603,\n",
       " 2.5491251945495605,\n",
       " 2.5845553874969482,\n",
       " 2.5148715376853943,\n",
       " 2.4529069662094116,\n",
       " 2.4373100996017456,\n",
       " 2.4566456079483032,\n",
       " 2.4380884766578674,\n",
       " 2.575013756752014,\n",
       " 2.4556771516799927,\n",
       " 2.4360393285751343,\n",
       " 2.4829700589179993,\n",
       " 2.4382548928260803,\n",
       " 2.499222755432129,\n",
       " 2.4319196939468384,\n",
       " 2.482667028903961,\n",
       " 2.4883991479873657,\n",
       " 2.614523231983185,\n",
       " 2.430564224720001,\n",
       " 2.490652620792389,\n",
       " 2.4450759291648865,\n",
       " 2.4238540530204773,\n",
       " 2.5136011242866516,\n",
       " 2.520826280117035,\n",
       " 2.582448661327362,\n",
       " 2.4078102111816406,\n",
       " 2.366071045398712,\n",
       " 2.428237020969391,\n",
       " 2.490996837615967,\n",
       " 2.4817973375320435,\n",
       " 2.4485047459602356,\n",
       " 2.4915608763694763,\n",
       " 2.5411128997802734,\n",
       " 2.469982087612152,\n",
       " 2.57326203584671,\n",
       " 2.424161434173584,\n",
       " 2.387395977973938,\n",
       " 2.4908013939857483,\n",
       " 2.6265904307365417,\n",
       " 2.5668006539344788,\n",
       " 2.6968754529953003,\n",
       " 2.567662298679352,\n",
       " 2.4175809025764465,\n",
       " 2.40850430727005,\n",
       " 2.4363123178482056,\n",
       " 2.5600698590278625,\n",
       " 2.3744882345199585,\n",
       " 2.5070231556892395,\n",
       " 2.3755558729171753,\n",
       " 2.4578408002853394,\n",
       " 2.5438356399536133,\n",
       " 2.602149546146393,\n",
       " 2.509013533592224,\n",
       " 2.648881673812866,\n",
       " 2.5963042974472046,\n",
       " 2.5871588587760925,\n",
       " 2.5493903756141663,\n",
       " 2.544335126876831,\n",
       " 2.5888150334358215,\n",
       " 2.6612964868545532,\n",
       " 2.520461320877075,\n",
       " 2.5165883898735046,\n",
       " 2.57866507768631,\n",
       " 2.502091884613037,\n",
       " 2.5417280793190002,\n",
       " 2.651285171508789,\n",
       " 2.5770903825759888,\n",
       " 2.50504332780838,\n",
       " 2.656295418739319,\n",
       " 2.616649568080902,\n",
       " 2.581124484539032,\n",
       " 2.5954365730285645,\n",
       " 2.505315899848938,\n",
       " 2.552513062953949,\n",
       " 2.610868811607361,\n",
       " 2.6862610578536987,\n",
       " 2.6308963894844055,\n",
       " 2.602053999900818,\n",
       " 2.686530351638794,\n",
       " 2.5571579933166504,\n",
       " 2.532714307308197,\n",
       " 2.564308822154999,\n",
       " 2.6216289401054382,\n",
       " 2.6222750544548035,\n",
       " 2.677860736846924,\n",
       " 2.7284093499183655,\n",
       " 2.700316369533539,\n",
       " 2.6075521111488342,\n",
       " 2.6900652647018433,\n",
       " 2.6351981163024902,\n",
       " 2.731992244720459,\n",
       " 2.560590445995331,\n",
       " 2.664121448993683,\n",
       " 2.650186836719513,\n",
       " 2.6623950600624084,\n",
       " 2.623575448989868,\n",
       " 2.7208216786384583,\n",
       " 2.672386109828949,\n",
       " 2.642838418483734,\n",
       " 2.6820236444473267,\n",
       " 2.5781595706939697,\n",
       " 2.614826023578644,\n",
       " 2.6344892382621765,\n",
       " 2.731356203556061,\n",
       " 2.67614609003067,\n",
       " 2.618439733982086,\n",
       " 2.690403997898102,\n",
       " 2.5421695709228516,\n",
       " 2.6871455907821655,\n",
       " 2.614746391773224,\n",
       " 2.545178174972534,\n",
       " 2.6605754494667053,\n",
       " 2.6730483174324036,\n",
       " 2.6333513259887695,\n",
       " 2.5836653113365173,\n",
       " 2.707011342048645,\n",
       " 2.579275369644165,\n",
       " 2.696148097515106,\n",
       " 2.6834792494773865,\n",
       " 2.702211856842041,\n",
       " 2.6260737776756287,\n",
       " 2.6467376351356506,\n",
       " 2.6462987065315247,\n",
       " 2.7665430903434753,\n",
       " 2.5861083269119263,\n",
       " 2.6565061807632446,\n",
       " 2.6583406925201416,\n",
       " 2.553992986679077,\n",
       " 2.6573948860168457,\n",
       " 2.7660555839538574,\n",
       " 2.7025073170661926,\n",
       " 2.6999693512916565,\n",
       " 2.751681625843048,\n",
       " 2.607886254787445,\n",
       " 2.6250811219215393,\n",
       " 2.6555263996124268,\n",
       " 2.7593047618865967,\n",
       " 2.7508553862571716,\n",
       " 2.6588072776794434,\n",
       " 2.6982285380363464,\n",
       " 2.6595078706741333,\n",
       " 2.642322361469269,\n",
       " 2.6117385029792786,\n",
       " 2.760877788066864,\n",
       " 2.6736055612564087,\n",
       " 2.595201790332794,\n",
       " 2.6852933168411255,\n",
       " 2.6263599395751953,\n",
       " 2.650900363922119,\n",
       " 2.6414994597434998,\n",
       " 2.680246114730835,\n",
       " 2.66089791059494,\n",
       " 2.649765968322754,\n",
       " 2.692115545272827,\n",
       " 2.6943516731262207,\n",
       " 2.697980761528015,\n",
       " 2.7235613465309143,\n",
       " 2.7806792855262756,\n",
       " 2.744216024875641,\n",
       " 2.7412153482437134,\n",
       " 2.7553298473358154,\n",
       " 2.7320539355278015,\n",
       " 2.7075571417808533,\n",
       " 2.6938881278038025,\n",
       " 2.766506612300873,\n",
       " 2.8138623237609863,\n",
       " 2.67778480052948,\n",
       " 2.7579583525657654,\n",
       " 2.7864956855773926,\n",
       " 2.699472725391388,\n",
       " 2.692017674446106,\n",
       " 2.7667179107666016,\n",
       " 2.6590049862861633,\n",
       " 2.701830267906189,\n",
       " 2.701239764690399,\n",
       " 2.5629719495773315,\n",
       " 2.6854583621025085,\n",
       " 2.7168344259262085,\n",
       " 2.645189881324768,\n",
       " 2.6643316745758057,\n",
       " 2.732684373855591,\n",
       " 2.7364338636398315,\n",
       " 2.6702206134796143,\n",
       " 2.684213876724243,\n",
       " 2.678896725177765,\n",
       " 2.699077308177948,\n",
       " 2.6349222660064697,\n",
       " 2.7028624415397644,\n",
       " 2.7602843046188354,\n",
       " 2.7939293384552,\n",
       " 2.6773175597190857,\n",
       " 2.6971932649612427,\n",
       " 2.761841595172882,\n",
       " 2.6232816576957703,\n",
       " 2.7663339376449585,\n",
       " 2.6911975741386414,\n",
       " 2.733983635902405,\n",
       " 2.724056661128998,\n",
       " 2.6659913063049316,\n",
       " 2.672636568546295,\n",
       " 2.571648120880127,\n",
       " 2.712936282157898,\n",
       " 2.633735775947571,\n",
       " 2.719269871711731,\n",
       " 2.6721118092536926,\n",
       " 2.785524010658264,\n",
       " 2.717336356639862,\n",
       " 2.747881829738617,\n",
       " 2.7135931849479675,\n",
       " 2.6457714438438416,\n",
       " 2.677240252494812,\n",
       " 2.6646466851234436,\n",
       " 2.715710759162903,\n",
       " 2.7309091687202454,\n",
       " 2.617143154144287,\n",
       " 2.743714392185211,\n",
       " 2.673713743686676,\n",
       " 2.68639600276947,\n",
       " 2.6518079042434692,\n",
       " 2.700293779373169,\n",
       " 2.6964486241340637,\n",
       " 2.720990836620331,\n",
       " 2.773863196372986,\n",
       " 2.7368107438087463,\n",
       " 2.7401899099349976,\n",
       " 2.8056382536888123,\n",
       " 2.704167068004608,\n",
       " 2.7822694778442383,\n",
       " 2.7586079239845276,\n",
       " 2.7591536045074463,\n",
       " 2.7350699305534363,\n",
       " 2.689841628074646,\n",
       " 2.6805208921432495,\n",
       " 2.780581772327423,\n",
       " 2.7164376974105835,\n",
       " 2.8149531483650208,\n",
       " 2.6969947814941406,\n",
       " 2.799880027770996,\n",
       " 2.6725947856903076,\n",
       " 2.8399518728256226,\n",
       " 2.820956289768219,\n",
       " 2.707947611808777,\n",
       " 2.7669490575790405,\n",
       " 2.767929792404175,\n",
       " 2.6583497524261475,\n",
       " 2.887317478656769,\n",
       " 2.7307594418525696,\n",
       " 2.8066102862358093,\n",
       " 2.6544246673583984,\n",
       " 2.7224382758140564,\n",
       " 2.7476451992988586,\n",
       " 2.626463532447815,\n",
       " 2.7582773566246033,\n",
       " 2.8159626722335815,\n",
       " 2.675568103790283,\n",
       " 2.6918587684631348,\n",
       " 2.879410147666931,\n",
       " 2.856740176677704,\n",
       " 2.760831832885742,\n",
       " 2.6952407360076904,\n",
       " 2.7040061354637146,\n",
       " 2.718378186225891,\n",
       " 2.8348633646965027,\n",
       " 2.759547233581543,\n",
       " 2.743933320045471,\n",
       " 2.8883191347122192,\n",
       " 2.7634326815605164,\n",
       " 2.7929532527923584,\n",
       " 2.6908655762672424,\n",
       " 2.67094349861145,\n",
       " 2.7627638578414917,\n",
       " 2.729610860347748,\n",
       " 2.794158160686493,\n",
       " 2.796870529651642,\n",
       " 2.769784092903137,\n",
       " 2.7959688305854797,\n",
       " 2.708920121192932,\n",
       " 2.8583788871765137,\n",
       " 2.769595980644226,\n",
       " 2.766951084136963,\n",
       " 2.7588330507278442,\n",
       " 2.8092342019081116,\n",
       " 2.7523433566093445,\n",
       " 2.8572474122047424,\n",
       " 2.8377992510795593,\n",
       " 2.926106035709381,\n",
       " 2.828093111515045,\n",
       " 2.7400125861167908,\n",
       " 2.6881388425827026,\n",
       " 2.758452534675598,\n",
       " 2.7715723514556885,\n",
       " 2.7863963842391968,\n",
       " 2.8249236345291138,\n",
       " 2.7803972363471985,\n",
       " 2.76080983877182,\n",
       " 2.7871735095977783,\n",
       " 2.8637688755989075,\n",
       " 2.8114486932754517,\n",
       " 2.870439291000366,\n",
       " 2.7222788333892822,\n",
       " 2.790440022945404,\n",
       " 2.8420625925064087,\n",
       " 2.853366434574127,\n",
       " 2.7698110342025757,\n",
       " 2.7640568614006042,\n",
       " 2.8512510657310486,\n",
       " 2.7192124128341675,\n",
       " 2.726480185985565,\n",
       " 2.77072811126709,\n",
       " 2.7776251435279846,\n",
       " 2.805681049823761,\n",
       " 2.7853131890296936,\n",
       " 2.7795493602752686,\n",
       " 2.8542622923851013,\n",
       " 2.819462835788727,\n",
       " 2.817605197429657,\n",
       " 2.8195782899856567,\n",
       " 2.7844218015670776,\n",
       " 2.7400705814361572,\n",
       " 2.723214030265808,\n",
       " 2.7693780660629272,\n",
       " 2.7440743446350098,\n",
       " 2.7866698503494263,\n",
       " 2.8022932410240173,\n",
       " 2.761419892311096,\n",
       " 2.8071823716163635,\n",
       " 2.8367040157318115,\n",
       " 2.8367919325828552,\n",
       " 2.8007287979125977,\n",
       " 2.8586938977241516,\n",
       " 2.849767744541168,\n",
       " 2.7437570691108704,\n",
       " 2.803543448448181,\n",
       " 2.7365629076957703,\n",
       " 2.7974191904067993,\n",
       " 2.8045474886894226,\n",
       " 2.8213587403297424,\n",
       " 2.789121925830841,\n",
       " 2.8430449962615967,\n",
       " 2.7314162850379944,\n",
       " 2.7790977358818054,\n",
       " 2.7584020495414734,\n",
       " 2.887939155101776,\n",
       " 2.7933358550071716,\n",
       " 2.7806238532066345,\n",
       " 2.8247032165527344,\n",
       " 2.8530917167663574,\n",
       " 2.8591954112052917,\n",
       " 2.84594589471817,\n",
       " 2.7958685159683228,\n",
       " 2.807673156261444,\n",
       " 2.906731128692627,\n",
       " 2.7491719722747803,\n",
       " 2.8552622199058533,\n",
       " 2.7337822914123535,\n",
       " 2.820122241973877,\n",
       " 2.8559828400611877,\n",
       " 2.796155333518982,\n",
       " 2.812783658504486,\n",
       " 2.872199237346649,\n",
       " 2.788154900074005,\n",
       " 2.832313597202301,\n",
       " 2.8057039976119995,\n",
       " 2.8015923500061035,\n",
       " 2.760519027709961,\n",
       " 2.815923035144806,\n",
       " 2.8152549862861633,\n",
       " 2.794236719608307,\n",
       " 2.7810879349708557]"
      ]
     },
     "execution_count": 41,
     "metadata": {},
     "output_type": "execute_result"
    }
   ],
   "source": [
    "average_mae_history"
   ]
  },
  {
   "cell_type": "markdown",
   "metadata": {},
   "source": [
    "## Exercice 8 - Plot the average of the per-epoch MAE scores w.r.t epochs changing. You should have a figure similar to 3"
   ]
  },
  {
   "cell_type": "code",
   "execution_count": 42,
   "metadata": {},
   "outputs": [
    {
     "data": {
      "text/plain": [
       "Text(0.5, 1.0, 'Validation MAE according to epochs ')"
      ]
     },
     "execution_count": 42,
     "metadata": {},
     "output_type": "execute_result"
    },
    {
     "data": {
      "image/png": "[encoded data removed]",
      "text/plain": [
       "<Figure size 432x288 with 1 Axes>"
      ]
     },
     "metadata": {
      "needs_background": "light"
     },
     "output_type": "display_data"
    }
   ],
   "source": [
    "plt.plot(range(1, len(average_mae_history) + 1), average_mae_history)\n",
    "plt.xlabel('Epochs')\n",
    "plt.ylabel('Values')\n",
    "plt.title('Validation MAE according to epochs ')"
   ]
  },
  {
   "cell_type": "markdown",
   "metadata": {},
   "source": [
    "## Exercice 9.a"
   ]
  },
  {
   "cell_type": "markdown",
   "metadata": {},
   "source": [
    "##### - Omit the first 10 data points\n",
    "##### - Replace each point with an exponential moving average of the previous points,to obtain a smooth curve i.e. point = previous point∗f actor+point∗(1−f actor) where factor is a value between 0 and 1\n",
    "##### According to this plot, you can check when the validation MAE stops improving or becomes worst. Past the special point on the graph, the model starts overfitting."
   ]
  },
  {
   "cell_type": "code",
   "execution_count": 43,
   "metadata": {},
   "outputs": [],
   "source": [
    "def smooth_curve(points, factor=0.9):\n",
    "  smoothed_points = []\n",
    "  for point in points:\n",
    "    if smoothed_points:\n",
    "      previous = smoothed_points[-1]\n",
    "      smoothed_points.append(previous * factor + point * (1 - factor))\n",
    "    else:\n",
    "      smoothed_points.append(point)\n",
    "  return smoothed_points"
   ]
  },
  {
   "cell_type": "code",
   "execution_count": 44,
   "metadata": {},
   "outputs": [],
   "source": [
    "smooth_mae_history = smooth_curve(average_mae_history[10:])"
   ]
  },
  {
   "cell_type": "code",
   "execution_count": 45,
   "metadata": {},
   "outputs": [
    {
     "data": {
      "image/png": "[encoded data removed]",
      "text/plain": [
       "<Figure size 432x288 with 1 Axes>"
      ]
     },
     "metadata": {
      "needs_background": "light"
     },
     "output_type": "display_data"
    }
   ],
   "source": [
    "plt.plot(range(1, len(smooth_mae_history) + 1), smooth_mae_history)\n",
    "plt.xlabel('Epochs')\n",
    "plt.ylabel('Validation MAE')\n",
    "plt.show()"
   ]
  },
  {
   "cell_type": "markdown",
   "metadata": {},
   "source": [
    "##### According to this plot, it seems that validation MAE stops improving significantly after 80 epochs. After this point, we start overfitting."
   ]
  },
  {
   "cell_type": "markdown",
   "metadata": {},
   "source": [
    "## Exercice 9.b"
   ]
  },
  {
   "cell_type": "markdown",
   "metadata": {},
   "source": [
    "##### Once we have finished tuning other parameters of the model (in addition to the number of epochs, we could also adjust the size of the hidden layers), we can train a final production model on all of the training data, with the best parameters, and then look at its performance on the test data"
   ]
  },
  {
   "cell_type": "code",
   "execution_count": 46,
   "metadata": {},
   "outputs": [
    {
     "name": "stdout",
     "output_type": "stream",
     "text": [
      "4/4 [==============================] - 0s 1ms/step - loss: 6042683.5000 - mae: 2405.1216\n"
     ]
    }
   ],
   "source": [
    "# Get a fresh, compiled model.\n",
    "model = build_model()\n",
    "# Train it on the entirety of the data.\n",
    "model.fit(train_data, train_targets, epochs=80, batch_size=16, verbose=0)\n",
    "\n",
    "test_mse_score, test_mae_score = model.evaluate(test_data, test_targets)"
   ]
  },
  {
   "cell_type": "code",
   "execution_count": 47,
   "metadata": {},
   "outputs": [
    {
     "data": {
      "text/plain": [
       "2405.12158203125"
      ]
     },
     "execution_count": 47,
     "metadata": {},
     "output_type": "execute_result"
    }
   ],
   "source": [
    "test_mae_score"
   ]
  },
  {
   "cell_type": "markdown",
   "metadata": {},
   "source": [
    "##### We are still off by about $2400."
   ]
  },
  {
   "cell_type": "markdown",
   "metadata": {},
   "source": [
    "## Exercice 10"
   ]
  },
  {
   "cell_type": "markdown",
   "metadata": {},
   "source": [
    "##### After finishing tuning other parameters of the model (in addition to the number of epochs, you could also adjust the size of the hidden layers), train a final production model on all of the training data, with the best parameters, and then look at its performance on the test data from the Exe. 1."
   ]
  },
  {
   "cell_type": "code",
   "execution_count": 48,
   "metadata": {},
   "outputs": [],
   "source": [
    "# def build_model_2 () :\n",
    "#     model_2 = models.Sequential ()\n",
    "\n",
    "#     model_2.add(keras.layers.Dense(32, activation = 'relu')) # 64-->32 \n",
    "#     model_2.add(keras.layers.Dense(32, activation = 'relu'))\n",
    "#     model_2.add(keras.layers.Dense(1))\n",
    "\n",
    "#     model_2.compile(optimizer='rmsprop',\n",
    "#                         loss = 'mse', \n",
    "#                         metrics=['mae'])\n",
    "#     return model_2"
   ]
  },
  {
   "cell_type": "code",
   "execution_count": 49,
   "metadata": {},
   "outputs": [],
   "source": [
    "# model1_exo1 = build_model()\n",
    "\n",
    "# # Train it on the entirety of the data.\n",
    "# model1_exo1.fit(x_train_1, y_train_1, epochs=80, batch_size=16, verbose=0)\n",
    "\n",
    "# test_mse_score_exo1_model1, test_mae_score_exo1_model1 = model1_exo1.evaluate(x_test_1, y_test_1)"
   ]
  },
  {
   "cell_type": "code",
   "execution_count": 50,
   "metadata": {},
   "outputs": [],
   "source": [
    "# model2_exo1 = build_model_2()\n",
    "\n",
    "# # Train it on the entirety of the data.\n",
    "# model2_exo1.fit(x_train_1, y_train_1, epochs=80, batch_size=16, verbose=0)\n",
    "\n",
    "# test_mse_score_exo1_model2, test_mae_score_exo1_model2 = model2_exo1.evaluate(x_test_1, y_test_1)"
   ]
  },
  {
   "cell_type": "code",
   "execution_count": 51,
   "metadata": {},
   "outputs": [],
   "source": [
    "# print(\"test_mae_score_exo1_model1 =\",test_mae_score_exo1_model1, \"test_mae_score_exo1_model2 =\",test_mae_score_exo1_model2)"
   ]
  },
  {
   "cell_type": "code",
   "execution_count": 52,
   "metadata": {},
   "outputs": [],
   "source": [
    "# if test_mae_score_exo1_model1<test_mae_score_exo1_model2:\n",
    "#     print(\"model 1, with epoch=80 and hidden layer'units = 64, is better than the model 2\")\n",
    "# else:\n",
    "#     print(\"model 2, with epoch=80 and hidden layer'units = 32, is better than the model 1\")"
   ]
  }
 ],
 "metadata": {
  "interpreter": {
   "hash": "cf3aa94c1f2aefbe9f9cd8ff0dcd157d18e3803b58d89b84f99a58365dda0b0a"
  },
  "kernelspec": {
   "display_name": "Python 3.8.12 ('deeplearning')",
   "language": "python",
   "name": "python3"
  },
  "language_info": {
   "codemirror_mode": {
    "name": "ipython",
    "version": 3
   },
   "file_extension": ".py",
   "mimetype": "text/x-python",
   "name": "python",
   "nbconvert_exporter": "python",
   "pygments_lexer": "ipython3",
   "version": "3.8.12"
  },
  "orig_nbformat": 4
 },
 "nbformat": 4,
 "nbformat_minor": 2
}
